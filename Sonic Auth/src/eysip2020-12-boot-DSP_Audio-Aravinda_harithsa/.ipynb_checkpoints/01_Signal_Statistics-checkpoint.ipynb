{
 "cells": [
  {
   "cell_type": "markdown",
   "metadata": {},
   "source": [
    "# Signal  statistics \n",
    "\n",
    "- Mean\n",
    "- variance\n",
    "- Standard deviation\n",
    "- Covariance\n",
    "- SNR of signal\n",
    "\n",
    "## 1. Mean value of signal "
   ]
  },
  {
   "cell_type": "markdown",
   "metadata": {},
   "source": [
    "The mean, indicated by μ  is the statistician's jargon for the average value of a signal. \n",
    "It is found by adding all of the samples together, and divide by N. Mean of a signal can be practically visualized as the dc average value present in the signal (for a complete sinusoidal period)\n",
    "\n",
    "In Electronics, the mean is usually called the DC  value. Likewise, AC refers to how the signal fluctuates around the mean value. If the signal is a simple repetitive waveform, such as a sine or square wave, its excursions can be described by its peak-to-peak amplitude. Unfortunately, most acquired signals do not show a well defined peak-to-peak value, but have a random nature.\n",
    "\n",
    "\n"
   ]
  },
  {
   "cell_type": "code",
   "execution_count": 5,
   "metadata": {},
   "outputs": [],
   "source": [
    "import import_ipynb\n",
    "import mysignals as sigs"
   ]
  },
  {
   "cell_type": "markdown",
   "metadata": {},
   "source": [
    "Now all the required fles were imported "
   ]
  },
  {
   "cell_type": "code",
   "execution_count": 6,
   "metadata": {},
   "outputs": [
    {
     "name": "stdout",
     "output_type": "stream",
     "text": [
      "0.037111879588437494\n"
     ]
    }
   ],
   "source": [
    "_mean =0.0\n",
    "\n",
    "def calc_mean(sig_src_arr):\n",
    "    global _mean\n",
    "    for x in range(len(sig_src_arr)):\n",
    "        _mean += sig_src_arr[x]\n",
    "    _mean = _mean/len(sig_src_arr)\n",
    "    return _mean\n",
    "    \n",
    "print(calc_mean(sigs.InputSignal_1kHz_15kHz))"
   ]
  },
  {
   "cell_type": "markdown",
   "metadata": {},
   "source": [
    "## Variance \n",
    "\n",
    "*Variance* of a signal is the difference between the normalized squared sum of instantaneous values with the mean value. In other words it provides you with the deviation of the signal from its mean value. It gives you the spread of your signal's data set.\n",
    "\n",
    "The average AC power quantity of a signal is directly proportional to the variance simply the average of the squares.This relation to \"power\" is clear when considering electrical signals of current or voltage. The total power is due to the DC component and AC component. By definition of variance, the DC component is subtracted from the signal prior to taking the average of the squares, and thus is the power of the \"AC\" component only. Often in communications our concern is with AC as that is where the information content is.\n",
    "\n",
    "The square root of the variance is the **standard deviation**. The RMS  of a signal is the standard deviation of the DC component is removed. Notice that the power due to a DC signal at level X is the same as an AC signal with RMS (standard deviation) level X. Thus for AC signals, including noisy signals with no DC component, the standard deviation is often the magnitude quantity for that signal.\n",
    "\n",
    "\n"
   ]
  },
  {
   "cell_type": "code",
   "execution_count": 1,
   "metadata": {},
   "outputs": [
    {
     "name": "stdout",
     "output_type": "stream",
     "text": [
      "importing Jupyter notebook from mysignals.ipynb\n",
      "0.6182214651545005\n"
     ]
    }
   ],
   "source": [
    "import numpy as np\n",
    "import import_ipynb\n",
    "import mysignals as sigs\n",
    "\n",
    "variance =np.var(sigs.InputSignal_1kHz_15kHz)\n",
    "print(variance)"
   ]
  },
  {
   "cell_type": "markdown",
   "metadata": {},
   "source": [
    "## Covariance and Standard deviation of signal \n",
    "\n",
    "*Co-variance* of a signal consists of unnormalized relation with the signal correlated with itself and also with other signals. It provides you the degree of similarity between the signals of interest.\n",
    "Instead of taking the average of the squared terms for a single variance, we take the average of a variable multiplied by another variable, and thus covariance is dependent on two variables as is cov(X,Y). \n",
    "\n",
    "Note that cov(X,X) is identical to the variance. Co-variance is very closely related to correlation, which tells us the linear relationship between two signals. Often in signal processing we simply refer to the process of multiply and integrate for two signals as \"correlation\"\n",
    "\n"
   ]
  },
  {
   "cell_type": "code",
   "execution_count": 2,
   "metadata": {},
   "outputs": [
    {
     "name": "stdout",
     "output_type": "stream",
     "text": [
      "Cov =  0.6182214651544999\n",
      "SD =  0.7862706055516129\n"
     ]
    }
   ],
   "source": [
    "import mysignals as sig\n",
    "\n",
    "_mean =0.0\n",
    "_variance =0.0\n",
    "_std = 0.0\n",
    "\n",
    "def calc_standard_deviation(sig_src_arr):\n",
    "    global _mean\n",
    "    global _variance\n",
    "    global _std\n",
    "    \n",
    "    for x in range(len(sig_src_arr)):\n",
    "        _mean += sig_src_arr[x]\n",
    "    _mean = _mean / len(sig_src_arr)\n",
    "\n",
    "    for x in range(len(sig_src_arr)):\n",
    "        _variance = _variance + (sig_src_arr[x]-_mean)**2\n",
    "    _variance = _variance /(len(sig_src_arr))\n",
    "    print(\"Cov = \",_variance)\n",
    "    _std = _variance**(.5)\n",
    "    return _std\n",
    "\n",
    "    \n",
    "print(\"SD = \",calc_standard_deviation(sig.InputSignal_1kHz_15kHz))"
   ]
  },
  {
   "cell_type": "markdown",
   "metadata": {},
   "source": [
    "###  Signal To Noise Ratio.\n",
    "\n",
    "The SNR (Signal-To-Noise Ratio) of a system or component is defined as the ratio of signal level to the noise level. SNR is expressed in decibels. It is calculated by dividing the signal power by the noise power. A ratio bigger than 1 dB indicates that the signal is more than the noise. Conversely, if the ratio is less than 1, it indicates that the noise level is bigger than the signal level.If the power of the signal is less than the power of the noise, i.e. the SNR < 1, the signal becomes unusable.Signal-to-noise ratio is a measure used in science and engineering that compares the level of a desired signal to the level of background noise\n",
    "\n"
   ]
  },
  {
   "cell_type": "code",
   "execution_count": 12,
   "metadata": {},
   "outputs": [
    {
     "name": "stdout",
     "output_type": "stream",
     "text": [
      "Signal to noise ratio of given signal is  26.507588934529235\n"
     ]
    }
   ],
   "source": [
    "import numpy as np\n",
    "\n",
    "def calc_standard_deviation(sig_src_arr):\n",
    "    global _mean\n",
    "    global _variance\n",
    "    global _std\n",
    "    \n",
    "    for x in range(len(sig_src_arr)):\n",
    "        _mean += sig_src_arr[x]\n",
    "    _mean = _mean / len(sig_src_arr)\n",
    "\n",
    "    for x in range(len(sig_src_arr)):\n",
    "        _variance = _variance + (sig_src_arr[x]-_mean)**2\n",
    "    _variance = _variance /(len(sig_src_arr))\n",
    "    _std = _variance**(.5)\n",
    "    return _std\n",
    "\n",
    "\n",
    "\n",
    "def calc_mean(sig_src_arr):\n",
    "    global _mean\n",
    "    for x in range(len(sig_src_arr)):\n",
    "        _mean += sig_src_arr[x]\n",
    "    _mean = _mean/len(sig_src_arr)\n",
    "    return _mean\n",
    "\n",
    "\n",
    "meanc = calc_mean(sig.InputSignal_1kHz_15kHz) \n",
    "stndd = calc_standard_deviation(sig.InputSignal_1kHz_15kHz)\n",
    "SNR = meanc/stndd\n",
    "SNR_l = - 20 * np.log10(SNR)\n",
    "print(\"Signal to noise ratio of given signal is \",SNR_l)\n",
    "\n"
   ]
  },
  {
   "cell_type": "markdown",
   "metadata": {},
   "source": [
    "Hence we sucessfully compiled and learnt all the statistical operations related to signals "
   ]
  },
  {
   "cell_type": "code",
   "execution_count": null,
   "metadata": {},
   "outputs": [],
   "source": []
  }
 ],
 "metadata": {
  "kernelspec": {
   "display_name": "Python 3",
   "language": "python",
   "name": "python3"
  },
  "language_info": {
   "codemirror_mode": {
    "name": "ipython",
    "version": 3
   },
   "file_extension": ".py",
   "mimetype": "text/x-python",
   "name": "python",
   "nbconvert_exporter": "python",
   "pygments_lexer": "ipython3",
   "version": "3.7.7"
  }
 },
 "nbformat": 4,
 "nbformat_minor": 4
}
