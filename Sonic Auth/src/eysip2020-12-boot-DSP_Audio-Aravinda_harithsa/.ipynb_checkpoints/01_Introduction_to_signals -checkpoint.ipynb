{
 "cells": [
  {
   "cell_type": "markdown",
   "metadata": {},
   "source": [
    "# Introduction to Signals  \n",
    "\n",
    "\n",
    "####  What is Signal?\n",
    "A signal is an electromagnetic or electrical current that is used for carrying data from one system or network to another. The signal is a function that conveys information about a phenomenon. it refers to any time-varying voltage  which carries information. It can also be defined as a physical quantity that varies with time, temperature, pressure or with any independent variables such as speech .\n",
    "\n",
    "####  What is Signal processing ?\n",
    "The process of operation in which the characteristics of a signal Amplitude,shape,phase,frequency,etc. undergoes a change is known as signal processing. \n",
    "\n",
    "#### Continuous Time Signals\n",
    "Continuous-time signals are defined along a continuum of time and are thus, represented by a continuous independent variable. Continuous-time signals are often referred to as analog signals.This type of signal shows continuity both in amplitude and time. These will have values at each instant of time. Sine and cosine functions are the best example of Continuous time signal.\n",
    "\n",
    "#### Discrete Time signals\n",
    "The signals which are defined or present at discrete intervals of time are known as discrete signals. Therefore, every independent variable has distinct value  . They are represented as sequence of numbers.  speech and video signals have the can be  represented in both continuous and discrete time format under certain circumstances.  but  they are identical. Amplitudes also show discrete characteristics. \n",
    "\n",
    "\n",
    "##### Advantages of Digital Signals\n",
    "\n",
    "- Digital data can be easily compressed.\n",
    "- Information in the digital form can be encrypted.\n",
    "- Equipment that uses digital signals is more common and less expensive.\n",
    "- Digital signal makes running instruments free from observation errors like parallax and approximation errors.\n",
    "- A lot of editing tools are available\n",
    "- You can edit the sound without altering the original copy\n",
    "- Easy to transmit the data over networks \n",
    "\n",
    "\n",
    "##### Disadvantage of Digital Signals\n",
    "- Sampling may cause loss of information.\n",
    "- A/D and D/A demands mixed-signal hardware\n",
    "- Processor speed is limited\n",
    "- Develop quantization and round-off errors\n",
    "- It requires greater bandwidth\n",
    "- Systems and processing is more complex and demand processing power .\n",
    "\n",
    "### plotting of signals \n",
    "\n",
    "Now we shall start with basic code to plot a given information array using basic python libraries \n",
    "\n",
    "#### Python program to plot the given information "
   ]
  },
  {
   "cell_type": "code",
   "execution_count": 1,
   "metadata": {},
   "outputs": [],
   "source": [
    "from matplotlib import pyplot as plt\n"
   ]
  },
  {
   "cell_type": "code",
   "execution_count": 2,
   "metadata": {},
   "outputs": [],
   "source": [
    "from matplotlib import style"
   ]
  },
  {
   "cell_type": "markdown",
   "metadata": {},
   "source": [
    "Now let us define the x and y asis parameters"
   ]
  },
  {
   "cell_type": "code",
   "execution_count": 3,
   "metadata": {},
   "outputs": [],
   "source": [
    "x=[1,2,3,4,5]\n",
    "y=[6,7,8,9,10]"
   ]
  },
  {
   "cell_type": "code",
   "execution_count": 9,
   "metadata": {},
   "outputs": [
    {
     "data": {
      "text/plain": [
       "<matplotlib.legend.Legend at 0x1881ebfbf88>"
      ]
     },
     "execution_count": 9,
     "metadata": {},
     "output_type": "execute_result"
    },
    {
     "data": {
      "image/png": "[encoded data removed]",
      "text/plain": [
       "<Figure size 432x288 with 1 Axes>"
      ]
     },
     "metadata": {
      "needs_background": "light"
     },
     "output_type": "display_data"
    }
   ],
   "source": [
    "plt.xlabel('x axis')\n",
    "plt.ylabel('y axis')\n",
    "plt.plot(x,y,label='line1')\n",
    "plt.title(\"The signal chart intro\")\n",
    "plt.legend()"
   ]
  },
  {
   "cell_type": "code",
   "execution_count": null,
   "metadata": {},
   "outputs": [],
   "source": []
  }
 ],
 "metadata": {
  "kernelspec": {
   "display_name": "Python 3",
   "language": "python",
   "name": "python3"
  },
  "language_info": {
   "codemirror_mode": {
    "name": "ipython",
    "version": 3
   },
   "file_extension": ".py",
   "mimetype": "text/x-python",
   "name": "python",
   "nbconvert_exporter": "python",
   "pygments_lexer": "ipython3",
   "version": "3.7.7"
  }
 },
 "nbformat": 4,
 "nbformat_minor": 4
}
