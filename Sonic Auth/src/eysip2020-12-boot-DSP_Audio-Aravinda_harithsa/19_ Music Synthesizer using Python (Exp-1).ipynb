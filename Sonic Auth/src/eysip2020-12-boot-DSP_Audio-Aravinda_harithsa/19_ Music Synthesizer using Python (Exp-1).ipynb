{
 "cells": [
  {
   "cell_type": "markdown",
   "metadata": {},
   "source": [
    "# Generation of Music with python \n",
    "\n",
    "Here we will be importing Synthesizer library for Synthesis"
   ]
  },
  {
   "cell_type": "code",
   "execution_count": 1,
   "metadata": {},
   "outputs": [],
   "source": [
    "from synthesizer import Player, Synthesizer, Waveform"
   ]
  },
  {
   "cell_type": "code",
   "execution_count": 2,
   "metadata": {},
   "outputs": [],
   "source": [
    "player = Player()\n",
    "player.open_stream()\n",
    "synthesizer = Synthesizer(osc1_waveform=Waveform.sine, osc1_volume=1.0, use_osc2=False)\n",
    "player.play_wave(synthesizer.generate_constant_wave(440.0, 3.0))"
   ]
  },
  {
   "cell_type": "code",
   "execution_count": 8,
   "metadata": {},
   "outputs": [],
   "source": [
    "#chord = [\"C3\", \"E3\", \"G3\"]\n",
    "#player.play_wave(synthesizer.generate_chord(chord, 3.0))\n",
    "\n",
    "# You can also specify frequencies to play just intonation\n",
    "chord = [800.0, 550.0, 660.0]\n",
    "player.play_wave(synthesizer.generate_chord(chord, 3.0))"
   ]
  },
  {
   "cell_type": "code",
   "execution_count": 34,
   "metadata": {},
   "outputs": [
    {
     "name": "stdout",
     "output_type": "stream",
     "text": [
      "play major chord\n",
      "play minor chord\n",
      "play sus4 chord\n",
      "play 7th chord\n",
      "play add9 chord\n",
      "play chord sequence\n"
     ]
    }
   ],
   "source": [
    "\n",
    "import time\n",
    "\n",
    "from synthesizer import Player, Synthesizer, Waveform\n",
    "\n",
    "\n",
    "def main():\n",
    "    player = Player()\n",
    "    player.open_stream()\n",
    "\n",
    "    print(\"play major chord\")\n",
    "    synthesizer = Synthesizer(osc1_waveform=Waveform.sine, osc1_volume=1.0, use_osc2=False)\n",
    "    chord = [\"C4\", \"E4\", \"G4\"]\n",
    "    player.play_wave(synthesizer.generate_chord(chord, 3.0))\n",
    "    time.sleep(0.5)\n",
    "\n",
    "    print(\"play minor chord\")\n",
    "    chord = [\"C4\", \"Eb4\", \"G4\"]\n",
    "    player.play_wave(synthesizer.generate_chord(chord, 3.0))\n",
    "    time.sleep(0.5)\n",
    "\n",
    "    print(\"play sus4 chord\")\n",
    "    chord = [\"C4\", \"F4\", \"G4\"]\n",
    "    player.play_wave(synthesizer.generate_chord(chord, 3.0))\n",
    "    time.sleep(0.5)\n",
    "\n",
    "    print(\"play 7th chord\")\n",
    "    chord = [\"C4\", \"E4\", \"G4\", \"Bb4\"]\n",
    "    player.play_wave(synthesizer.generate_chord(chord, 3.0))\n",
    "    time.sleep(0.5)\n",
    "\n",
    "    print(\"play add9 chord\")\n",
    "    chord = [\"C4\", \"E4\", \"G4\", \"D5\"]\n",
    "    player.play_wave(synthesizer.generate_chord(chord, 3.0))\n",
    "    time.sleep(0.5)\n",
    "\n",
    "    print(\"play chord sequence\")\n",
    "    chord = [\"D4\", \"F4\", \"A4\", \"C5\"]\n",
    "    player.play_wave(synthesizer.generate_chord(chord, 1.0))\n",
    "    chord = [\"D4\", \"G4\", \"B4\"]\n",
    "    player.play_wave(synthesizer.generate_chord(chord, 1.0))\n",
    "    chord = [\"E4\", \"G4\", \"C5\"]\n",
    "    player.play_wave(synthesizer.generate_chord(chord, 1.0))\n",
    "\n",
    "\n",
    "if __name__ == '__main__':\n",
    "    main()\n",
    "\n"
   ]
  },
  {
   "cell_type": "markdown",
   "metadata": {},
   "source": [
    "---\n",
    "\n",
    "### Python program to implement various sound wave generation\n",
    "---\n",
    "- Sine wave \n",
    "- Square wave \n",
    "- trangular wave \n",
    "- Sawtooth wave "
   ]
  },
  {
   "cell_type": "code",
   "execution_count": 24,
   "metadata": {},
   "outputs": [
    {
     "name": "stdout",
     "output_type": "stream",
     "text": [
      "play sine wave\n",
      "play square wave\n",
      "play triangle wave\n",
      "play synthesized wave 1\n",
      "play synthesized wave 2\n",
      "play synthesized wave 3\n"
     ]
    }
   ],
   "source": [
    "import time\n",
    "\n",
    "from synthesizer import Player, Synthesizer, Waveform\n",
    "\n",
    "\n",
    "def main():\n",
    "    player = Player()\n",
    "    player.open_stream()\n",
    "\n",
    "    print(\"play sine wave\")\n",
    "    synthesizer = Synthesizer(osc1_waveform=Waveform.sine, osc1_volume=1.0, use_osc2=False)\n",
    "    player.play_wave(synthesizer.generate_constant_wave(440.0, 3.0))\n",
    "    time.sleep(0.5)\n",
    "\n",
    "    print(\"play square wave\")\n",
    "    synthesizer = Synthesizer(osc1_waveform=Waveform.square, osc1_volume=0.8, use_osc2=False)\n",
    "    player.play_wave(synthesizer.generate_constant_wave(440.0, 3.0))\n",
    "    time.sleep(0.5)\n",
    "\n",
    "    print(\"play triangle wave\")\n",
    "    synthesizer = Synthesizer(osc1_waveform=Waveform.triangle, osc1_volume=0.8, use_osc2=False)\n",
    "    player.play_wave(synthesizer.generate_constant_wave(440.0, 3.0))\n",
    "    time.sleep(0.5)\n",
    "\n",
    "    print(\"play synthesized wave 1\")\n",
    "    synthesizer = Synthesizer(\n",
    "        osc1_waveform=Waveform.sawtooth, osc1_volume=1.0,\n",
    "        use_osc2=True, osc2_waveform=Waveform.sawtooth,\n",
    "        osc2_volume=0.3, osc2_freq_transpose=6.0,\n",
    "    )\n",
    "    player.play_wave(synthesizer.generate_constant_wave(440.0, 3.0))\n",
    "    time.sleep(0.5)\n",
    "\n",
    "    \n",
    "    print(\"play synthesized wave 2\")\n",
    "    synthesizer = Synthesizer(\n",
    "        osc1_waveform=Waveform.sawtooth, osc1_volume=1.0,\n",
    "        use_osc2=True, osc2_waveform=Waveform.sawtooth,\n",
    "        osc2_volume=0.3, osc2_freq_transpose=6.0,\n",
    "    )\n",
    "    player.play_wave(synthesizer.generate_constant_wave(890.0, 2.0))\n",
    "    time.sleep(0.5)\n",
    "    \n",
    "    print(\"play synthesized wave 3\")\n",
    "    synthesizer = Synthesizer(\n",
    "        osc1_waveform=Waveform.square, osc1_volume=1.0,\n",
    "        use_osc2=True, osc2_waveform=Waveform.sine,\n",
    "        osc2_volume=0.3, osc2_freq_transpose=3.0,\n",
    "    )\n",
    "    player.play_wave(synthesizer.generate_constant_wave(440.0, 3.0))\n",
    "\n",
    "\n",
    "if __name__ == '__main__':\n",
    "    main()"
   ]
  },
  {
   "cell_type": "code",
   "execution_count": null,
   "metadata": {},
   "outputs": [],
   "source": []
  }
 ],
 "metadata": {
  "kernelspec": {
   "display_name": "Python 3",
   "language": "python",
   "name": "python3"
  },
  "language_info": {
   "codemirror_mode": {
    "name": "ipython",
    "version": 3
   },
   "file_extension": ".py",
   "mimetype": "text/x-python",
   "name": "python",
   "nbconvert_exporter": "python",
   "pygments_lexer": "ipython3",
   "version": "3.7.7"
  }
 },
 "nbformat": 4,
 "nbformat_minor": 4
}
