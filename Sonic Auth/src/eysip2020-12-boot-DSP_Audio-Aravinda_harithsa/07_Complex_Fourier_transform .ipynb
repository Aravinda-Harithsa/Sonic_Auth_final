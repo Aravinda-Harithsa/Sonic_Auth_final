{
 "cells": [
  {
   "cell_type": "markdown",
   "metadata": {},
   "source": [
    "### Complex Fouier Transform \n",
    "\n",
    "Although complex numbers are fundamentally disconnected from our reality, they can be used to\n",
    "solve science and engineering problems in two ways. First, the parameters from a real world\n",
    "problem can be substituted into a complex form, as presented in the last chapter. The second\n",
    "method is much more elegant and powerful, a way of making the complex numbers\n",
    "mathematically equivalent to the physical problem. This approach leads to the complex Fourier\n",
    "transform, a more sophisticated version of the real Fourier transform discussed in Chapter 8.\n",
    "The complex Fourier transform is important in itself, but also as a stepping stone to more\n",
    "powerful complex techniques, such as the Laplace and z-transforms. These complex transforms\n",
    "are the foundation of theoretical DSP"
   ]
  },
  {
   "cell_type": "markdown",
   "metadata": {},
   "source": [
    "**Complex DFT:**\n",
    "The complex version of the transforms represent positive and negative frequencies in a single array. The complex versions are flexible that it can process both complex valued signals and real valued signals. The following figure captures the difference between real DFT and complex DFT.\n",
    "\n",
    "Consider the case of N-point complex DFT, it takes in N samples of complex-valued time domain waveform x[n] and produces an array X[k] of length N.\n",
    "\n",
    "\n",
    "$x[K]=\\frac{1}{N} \\sum_{k=0}^{N-1}X[k]e^{\\frac{-i2\\pi kn}{N}}$\n",
    "\n",
    "\n",
    "The arrays values are interpreted as follows\n",
    "\n",
    "- X[0] represents DC frequency component\n",
    "-  Next N/2 terms are positive frequency components with X[N/2] being the Nyquist frequency (which is equal to half of sampling frequency)\n",
    "-  Next N/2-1 terms are negative frequency components (note: negative frequency components are the phasors rotating in opposite direction, they can be optionally omitted depending on the application)\n",
    "\n",
    "The corresponding synthesis equation (reconstruct x[n] from frequency domain samples X[k]) is\n",
    "\n",
    "$x[n]=\\sum_{k=0}^{N-1}X[k]e^{\\frac{i2\\pi kn}{N}}$\n",
    "\n",
    "\n",
    "\n",
    "From these equations we can see that the real DFT is computed by projecting the signal on cosine and sine basis functions. However, the complex DFT projects the input signal on exponential basis functions (Euler’s formula connects these two concepts).When the input signal in the time domain is real valued, the complex DFT zero-fills the imaginary part during computation (That’s its flexibility and avoids the caveat needed for real DFT). The following figure shows how to interpret the raw FFT results in Matlab that computes complex DFT. The specifics will be discussed next with an example.\n",
    "\n",
    "\n",
    "![](.\\img1\\cft2.png)\n",
    "\n",
    "\n",
    "\n",
    "**Real DFT:**\n",
    "The real version of the transform, takes in a real numbers and gives two sets of real frequency domain points – one set representing coefficients over cosine basis function and the other set representing the co-efficient over sine basis function. \n",
    "Consider the case of N-point real DFT , it takes in N  samples of (real-valued) time domain waveform x[n] and gives two arrays of length N/2+1 each set projected on cosine and sine functions respectively.\n",
    "\n",
    "$x[n]=\\sum_{k=0}^{N/2}\\left(X_R[k]\\cos\\left(\\frac{2\\pi kn}{N}\\right)-X_I[k]\\sin\\left(\\frac{2\\pi kn}{N}\\right)\\right)$\n",
    "\n",
    "Converts N samples to two sets of N/2 + 1 samples (Real and imaginary). These are not really complex numbers but are the amplitudes of the basis functions (cosine and sine waves) that can be combined to make up the time domain signal. Since they are the amplitudes of cosine and sine basis functions they can be treated as the real and imaginary parts of complex numbers through substitution. One purpose of doing this is to convert them into polar form by creating N/2 + 1 size magnitude and phase vectors  from the complex numbers, giving the magnitude and phase of the frequency response.\n",
    "\n",
    "\n",
    "\n",
    "If converting to polar form, the values for RMagX and RPhaseX give the magnitude and phase from k = 0 (DC) to k = fs/2.\n",
    "\n",
    "\n",
    "![](.\\img1\\cft.jpg)\n",
    "\n",
    "\n"
   ]
  },
  {
   "cell_type": "code",
   "execution_count": null,
   "metadata": {},
   "outputs": [],
   "source": []
  }
 ],
 "metadata": {
  "kernelspec": {
   "display_name": "Python 3",
   "language": "python",
   "name": "python3"
  },
  "language_info": {
   "codemirror_mode": {
    "name": "ipython",
    "version": 3
   },
   "file_extension": ".py",
   "mimetype": "text/x-python",
   "name": "python",
   "nbconvert_exporter": "python",
   "pygments_lexer": "ipython3",
   "version": "3.7.7"
  }
 },
 "nbformat": 4,
 "nbformat_minor": 4
}
