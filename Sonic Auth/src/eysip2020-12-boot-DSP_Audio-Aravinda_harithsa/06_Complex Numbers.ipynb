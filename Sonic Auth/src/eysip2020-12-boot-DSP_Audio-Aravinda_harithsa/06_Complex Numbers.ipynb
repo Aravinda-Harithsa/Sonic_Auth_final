{
 "cells": [
  {
   "cell_type": "markdown",
   "metadata": {},
   "source": [
    "### Complex Number System"
   ]
  },
  {
   "cell_type": "markdown",
   "metadata": {},
   "source": [
    "Complex numbers are an extension of the ordinary numbers which we use in mathematics . They have the unique property of representing and manipulating two variables as a single quantity together. This is really helpfull for fourier analysis , where the frequency domain is composed of two signals, the real and the imaginary parts. Complex numbers will reduce the size of  equations used in DSP and enable techniques that are difficult or impossible with real numbers alone.\n",
    "The complex Fourier transform, the Laplace transform, and the z-transform. These complex transforms are the heart of theoretical DSP.\n",
    "\n",
    "\n",
    "History of Complex numbers : - \n",
    "Indian mathematician Mahavira (850 A.D.) was first to mention in his work '**Ganitasara sangraha**'; 'As in nature of things a negative quantity is not a square, it has, therefore, no square root'. Hence, there is no real number x which satisfies the polynomial equation\n",
    "\n",
    "Let us consider this quadratic equation $a^x + bx + c = 0 $\n",
    "The rots of this equation will be given by \n",
    "\n",
    "$x = \\dfrac{-b \\pm \\sqrt{b^{2} - 4ac}}{2a} $\n",
    "\n",
    "\n",
    "\n",
    "A **Complex number** is an object of the form\n",
    "\n",
    "a+bi\n",
    "\n",
    "where  a  and  b  are real numbers \n",
    "$i^{2} = -1.$\n",
    "\n",
    "The form  a+bi , where a and b are real numbers is called the standard form for a complex number. When we have a complex number of the form  z=a+bi , the number  a  is called the real part of the complex number  z  and the number  b  is called the imaginary part of  z . Since i is not a real number, two complex numbers  a+bi  and  c+di  are equal if and only if  a=c  and  b=d .\n",
    "\n"
   ]
  },
  {
   "cell_type": "markdown",
   "metadata": {},
   "source": [
    "#### Some Key Points of Complex Numbers\n",
    "\n",
    "- As explained, complex numbers are generally expressed as z = a+ib. Hence z is:\n",
    "Purely real, if b = 0\n",
    "\n",
    "- Imaginary, if b ≠ 0\n",
    "\n",
    "- Purely imaginary, if a = 0\n",
    "\n",
    "- The set R of real numbers is a proper subset of the complex numbers.\n",
    "\n",
    "- Zero is purely real as well as purely imaginary but not imaginary.\n",
    "\n",
    "- i = √(-1), is called the imaginary unit. i2 = -1; i3 = i; i4=1, etc.\n",
    "\n",
    "- If j = a + ib, then a-ib is called complex conjugate of j.\n",
    "\n"
   ]
  },
  {
   "cell_type": "markdown",
   "metadata": {},
   "source": [
    "It can be shown that the complex numbers satisfy many useful and familiar properties, which are similar to properties of the real numbers. \n",
    "\n",
    "If  u ,  w , and  z , are complex numbers, then\n",
    "\n",
    "- w+z=z+w \n",
    "\n",
    "- u+(w+z)=(u+w)+z \n",
    "\n",
    "- The complex number  0=0+0i  is an additive identity, that is  z+0=z .\n",
    "\n",
    "- If  z=a+bi , then the additive inverse of  z  is  −z=(−a)+(−b)i . That is,  z+(−z)=0 .\n",
    "\n",
    "- wz=zw \n",
    "\n",
    "- U(wz)=(Uw)z \n",
    "\n",
    "- U(w+z)=Uw+Uz \n",
    "\n",
    "- If  wz=0 , then  w=0  or  z=0 \n",
    "\n",
    "\n",
    "### Python code for doing complex number based operation "
   ]
  },
  {
   "cell_type": "code",
   "execution_count": 2,
   "metadata": {},
   "outputs": [
    {
     "name": "stdout",
     "output_type": "stream",
     "text": [
      "The modulus and argument of polar complex number is : (1.4142135623730951, 0.7853981633974483)\n"
     ]
    }
   ],
   "source": [
    "\n",
    "import cmath \n",
    "import math \n",
    "  \n",
    "# Initializing real number values \n",
    "x = 1.0\n",
    "y = 1.0\n",
    "  \n",
    "# converting x and y into complex number \n",
    "z = complex(x,y); \n",
    "  \n",
    "# converting complex number into polar using polar() \n",
    "w = cmath.polar(z) \n",
    "  \n",
    "# printing modulus and argument of polar complex number \n",
    "print (\" polar Representation is  \",end=\"\") \n",
    "print (w) \n",
    "  \n"
   ]
  },
  {
   "cell_type": "markdown",
   "metadata": {},
   "source": [
    "## Polar Representation of Complex Numbers"
   ]
  },
  {
   "cell_type": "markdown",
   "metadata": {},
   "source": [
    "The point ‘z’ represented in red is the complex number z = a+ib which corresponds to an intercept ‘a’ on the x-axis while it corresponds to an intercept ‘b’ on y-axis. Complex number does not actually mean complicated. In fact, it just implies that a complex number is a combination of a real and imaginary number. The line in blue represents the position vector of the point z.     \n",
    "\n",
    "Complex plane is also termed as the Argand plane. A complex number is actually a point or a position vector in a two dimensional Cartesian coordinate system. The real part of the complex number is graphed as the horizontal component while the imaginary part is plotted against the vertical component. When we talk of a position vector of a complex number, it always takes into consideration, the magnitude and the direction with respect to the origin. All this is also emphasized in the polar form.\n",
    " "
   ]
  }
 ],
 "metadata": {
  "kernelspec": {
   "display_name": "Python 3",
   "language": "python",
   "name": "python3"
  },
  "language_info": {
   "codemirror_mode": {
    "name": "ipython",
    "version": 3
   },
   "file_extension": ".py",
   "mimetype": "text/x-python",
   "name": "python",
   "nbconvert_exporter": "python",
   "pygments_lexer": "ipython3",
   "version": "3.7.7"
  }
 },
 "nbformat": 4,
 "nbformat_minor": 4
}
