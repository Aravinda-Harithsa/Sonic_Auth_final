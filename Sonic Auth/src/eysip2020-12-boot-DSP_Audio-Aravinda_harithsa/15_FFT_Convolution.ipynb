{
 "cells": [
  {
   "cell_type": "markdown",
   "metadata": {},
   "source": [
    "# FFT Convolution\n",
    "---\n",
    "\n",
    "\n",
    "\n",
    "#### Overlap add Method\n",
    "\n",
    "The overlap-add method is based on the fundamental technique in DSP: \n",
    "\n",
    "1. Decompose the signal into simple components\n",
    "2. Process each of the components in some useful way\n",
    "3. Recombine the processed components into the final signal\n",
    "\n",
    "The key to this method is how the lengths of these signals are affected by the convolution. When an N sample signal is convolved with an M sample filter kernel, the output signal is N + M - 1 samples long.when an N sample signal is filtered, it will be expanded by M - 1 points to the right. \n",
    "\n",
    "![](.\\img1\\fftc1.jpg)\n",
    "\n",
    "**Summary**\n",
    "The overlap-add method allows us to calculate the convolution of very long sequences. The overlap-add method breaks a long sequence x(n) into signals of shorter length and calculates the convolution of each block independently. To arrive at the final result, we need to apply an appropriate time shift to the convolution of the blocks and add them together. Analyzing the computational complexity of the DFT-based method, we observe that there is an optimum value for the length of the input blocks.\n",
    "\n",
    "\n",
    "---\n",
    "### FFT CONVOLUTION \n",
    "\n",
    "FFT convolution uses the principle that multiplication in the frequency domain corresponds to convolution in the time domain. \n",
    "\n",
    "- The input signal is transformed into the frequency domain using the DFT\n",
    "- Multiplied by the frequency response of the filter\n",
    "- Then transformed back into the time domain using the Inverse DFT. \n",
    "\n",
    "This basic technique was known since the days of Fourier,Still nothing was developed. This is because the time required to calculate the DFT was longer than the time to directly calculate the convolution. This changed after development of the Fast Fourier Transform (FFT). Hence convolution via the frequency domain can be faster than directly convolving the time domain signals. For this reason, FFT convolution is also called high-speed convolution.\n",
    "\n",
    "\n",
    "\n",
    "![](.\\img1\\FFTc1.jpg)"
   ]
  },
  {
   "cell_type": "code",
   "execution_count": null,
   "metadata": {},
   "outputs": [],
   "source": []
  }
 ],
 "metadata": {
  "kernelspec": {
   "display_name": "Python 3",
   "language": "python",
   "name": "python3"
  },
  "language_info": {
   "codemirror_mode": {
    "name": "ipython",
    "version": 3
   },
   "file_extension": ".py",
   "mimetype": "text/x-python",
   "name": "python",
   "nbconvert_exporter": "python",
   "pygments_lexer": "ipython3",
   "version": "3.7.7"
  }
 },
 "nbformat": 4,
 "nbformat_minor": 4
}
